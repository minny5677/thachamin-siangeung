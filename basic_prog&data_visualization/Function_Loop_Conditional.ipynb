{
 "cells": [
  {
   "cell_type": "markdown",
   "metadata": {},
   "source": [
    "# Function\n",
    "### print ชื่อ XXX นามสกุล YYY รหัส ZZZ\n",
    "### print เกรด วิชา Stat 1 >> AAA"
   ]
  },
  {
   "cell_type": "code",
   "execution_count": 1,
   "metadata": {},
   "outputs": [
    {
     "name": "stdout",
     "output_type": "stream",
     "text": [
      "ชื่อ ทัชมินทร์ นามสกุล เซี่ยงอึ้ง รหัส 603020470-7\n"
     ]
    }
   ],
   "source": [
    "a = (f'ชื่อ ทัชมินทร์ นามสกุล เซี่ยงอึ้ง รหัส 603020470-7')\n",
    "print(a)"
   ]
  },
  {
   "cell_type": "code",
   "execution_count": 2,
   "metadata": {},
   "outputs": [
    {
     "name": "stdout",
     "output_type": "stream",
     "text": [
      "ชื่อ ทัชมินทร์ นามสกุล เซี่ยงอึ้ง รหัส 603020470-7\n"
     ]
    }
   ],
   "source": [
    "name = 'ทัชมินทร์'\n",
    "sername = 'เซี่ยงอึ้ง'\n",
    "ID = '603020470-7'\n",
    "\n",
    "b = f'ชื่อ {name} นามสกุล {sername} รหัส {ID}'\n",
    "print(b)"
   ]
  },
  {
   "cell_type": "markdown",
   "metadata": {},
   "source": [
    "```python\n",
    "def function_name(Input):\n",
    "    do_something\n",
    "    return Output\n",
    "```"
   ]
  },
  {
   "cell_type": "code",
   "execution_count": 3,
   "metadata": {},
   "outputs": [],
   "source": [
    "def print_line1(name,sername,ID):\n",
    "    st = f'ชื่อ {name} นามสกุล {sername} รหัส {ID}'\n",
    "    return st"
   ]
  },
  {
   "cell_type": "code",
   "execution_count": 4,
   "metadata": {},
   "outputs": [
    {
     "name": "stdout",
     "output_type": "stream",
     "text": [
      "ชื่อ พรภิรมย์ นามสกุล โลจรัส รหัส 603020478-1\n"
     ]
    }
   ],
   "source": [
    "print(print_line1('พรภิรมย์','โลจรัส','603020478-1'))"
   ]
  },
  {
   "cell_type": "code",
   "execution_count": 5,
   "metadata": {},
   "outputs": [],
   "source": [
    "def print_2line(name,sername,ID,grade):\n",
    "    st = f'ชื่อ {name} นามสกุล {sername} รหัส {ID}'\n",
    "    print(st)\n",
    "    st2 = f'เกรดวิชา stat1 >>> {grade}'\n",
    "    print(st2)\n",
    "    "
   ]
  },
  {
   "cell_type": "code",
   "execution_count": 6,
   "metadata": {},
   "outputs": [
    {
     "name": "stdout",
     "output_type": "stream",
     "text": [
      "ชื่อ พรภิรมย์ นามสกุล โลจรัส รหัส 603020478-1\n",
      "เกรดวิชา stat1 >>> A\n"
     ]
    }
   ],
   "source": [
    "print_2line('พรภิรมย์','โลจรัส','603020478-1','A')"
   ]
  },
  {
   "cell_type": "code",
   "execution_count": 7,
   "metadata": {},
   "outputs": [
    {
     "name": "stdout",
     "output_type": "stream",
     "text": [
      "ชื่อ ทัชมินทร์ นามสกุล เซี่ยงอึ้ง รหัส 603020470-7\n",
      "เกรดวิชา stat1 >>> A\n",
      "ชื่อ พรภิรมย์ นามสกุล โลจรัส รหัส 603020478-1\n",
      "เกรดวิชา stat1 >>> A\n",
      "ชื่อ ศุภนิตา นามสกุล ดาดวน รหัส 603021129-1\n",
      "เกรดวิชา stat1 >>> A\n",
      "ชื่อ ภูวนัต นามสกุล จันทะกล รหัส 603021111-0\n",
      "เกรดวิชา stat1 >>> A\n"
     ]
    }
   ],
   "source": [
    "print_2line('ทัชมินทร์','เซี่ยงอึ้ง','603020470-7','A')\n",
    "print_2line('พรภิรมย์','โลจรัส','603020478-1','A')\n",
    "print_2line('ศุภนิตา','ดาดวน','603021129-1','A')\n",
    "print_2line('ภูวนัต','จันทะกล','603021111-0','A')"
   ]
  },
  {
   "cell_type": "code",
   "execution_count": 8,
   "metadata": {},
   "outputs": [],
   "source": [
    "def print_3line(name,sername,ID,grade,age):\n",
    "    st = f'ชื่อ {name} นามสกุล {sername} รหัส {ID}'\n",
    "    print(st)\n",
    "    st2 = f'เกรดวิชา stat1 >>> {grade}'\n",
    "    print(st2)\n",
    "    st3 = f'อายุ >>> {age}'\n",
    "    print(st3)"
   ]
  },
  {
   "cell_type": "code",
   "execution_count": 9,
   "metadata": {},
   "outputs": [
    {
     "name": "stdout",
     "output_type": "stream",
     "text": [
      "ชื่อ พรภิรมย์ นามสกุล โลจรัส รหัส 603020478-1\n",
      "เกรดวิชา stat1 >>> A\n",
      "อายุ >>> 21\n"
     ]
    }
   ],
   "source": [
    "print_3line('พรภิรมย์','โลจรัส','603020478-1','A','21')"
   ]
  },
  {
   "cell_type": "markdown",
   "metadata": {},
   "source": [
    "### function without input"
   ]
  },
  {
   "cell_type": "code",
   "execution_count": 10,
   "metadata": {},
   "outputs": [],
   "source": [
    "def two_x_three():\n",
    "    x = 2*3\n",
    "    return x"
   ]
  },
  {
   "cell_type": "code",
   "execution_count": 11,
   "metadata": {},
   "outputs": [
    {
     "data": {
      "text/plain": [
       "6"
      ]
     },
     "execution_count": 11,
     "metadata": {},
     "output_type": "execute_result"
    }
   ],
   "source": [
    "two_x_three()"
   ]
  },
  {
   "cell_type": "markdown",
   "metadata": {},
   "source": [
    "### function with default argument"
   ]
  },
  {
   "cell_type": "code",
   "execution_count": 12,
   "metadata": {},
   "outputs": [],
   "source": [
    "def print_2line_default(name,sername,ID,grade='F'):\n",
    "    st = f'ชื่อ {name} นามสกุล {sername} รหัส {ID}'\n",
    "    print(st)\n",
    "    st2 = f'เกรดวิชา stat1 >>> {grade}'\n",
    "    print(st2)"
   ]
  },
  {
   "cell_type": "code",
   "execution_count": 13,
   "metadata": {},
   "outputs": [
    {
     "name": "stdout",
     "output_type": "stream",
     "text": [
      "ชื่อ พรภิรมย์ นามสกุล โลจรัส รหัส 603020478-1\n",
      "เกรดวิชา stat1 >>> F\n"
     ]
    }
   ],
   "source": [
    "print_2line_default('พรภิรมย์','โลจรัส','603020478-1')"
   ]
  },
  {
   "cell_type": "markdown",
   "metadata": {},
   "source": [
    "# Loop (วนซ้ำ)"
   ]
  },
  {
   "cell_type": "markdown",
   "metadata": {},
   "source": [
    "```Python\n",
    "for each_member in listA:\n",
    "    do something\n",
    "```"
   ]
  },
  {
   "cell_type": "code",
   "execution_count": 14,
   "metadata": {},
   "outputs": [
    {
     "name": "stdout",
     "output_type": "stream",
     "text": [
      "1\n",
      "2\n",
      "3\n"
     ]
    }
   ],
   "source": [
    "for i in [1,2,3]:\n",
    "    print(i)"
   ]
  },
  {
   "cell_type": "code",
   "execution_count": 15,
   "metadata": {},
   "outputs": [
    {
     "name": "stdout",
     "output_type": "stream",
     "text": [
      "T -> /\n",
      " \n",
      "h -> /\n",
      " \n",
      "a -> /\n",
      " \n",
      "c -> /\n",
      " \n",
      "h -> /\n",
      " \n",
      "a -> /\n",
      " \n",
      "m -> /\n",
      " \n",
      "i -> /\n",
      " \n",
      "n -> /\n",
      " \n"
     ]
    }
   ],
   "source": [
    "for i in 'Thachamin':\n",
    "    print(f'{i} -> /')\n",
    "    print(' ')"
   ]
  },
  {
   "cell_type": "markdown",
   "metadata": {},
   "source": [
    "## 1 สร้าง List ชื่อเพื่อนในแถวยาวเดียวกัน\n",
    "## 1.5  สร้าง function print ประโยคว่า XXXเรา YYYกริยา ZZZเพื่อน ทุกคนในแถวยาว\n",
    "## 2 วนลูปเรียก function ดดยเปลี่ยนชื่อเพื่อนไปเรื่อยๆ"
   ]
  },
  {
   "cell_type": "code",
   "execution_count": 16,
   "metadata": {},
   "outputs": [],
   "source": [
    "list_F = ['เบิร์ด','เอิร์น','ไอ่','ขวัญ','ดิว']"
   ]
  },
  {
   "cell_type": "code",
   "execution_count": 17,
   "metadata": {},
   "outputs": [],
   "source": [
    "def mf(I,feeling,friend,):\n",
    "    friends = f'{I} {feeling} {friend}'\n",
    "    print(friends)"
   ]
  },
  {
   "cell_type": "code",
   "execution_count": 18,
   "metadata": {},
   "outputs": [
    {
     "name": "stdout",
     "output_type": "stream",
     "text": [
      "min love เบิร์ด\n",
      "min love เอิร์น\n",
      "min love ไอ่\n",
      "min love ขวัญ\n",
      "min love ดิว\n"
     ]
    }
   ],
   "source": [
    "for i in range(len(list_F )):\n",
    "    mf('min','love',list_F[i])"
   ]
  },
  {
   "cell_type": "markdown",
   "metadata": {},
   "source": [
    "## loop in function"
   ]
  },
  {
   "cell_type": "code",
   "execution_count": 19,
   "metadata": {},
   "outputs": [],
   "source": [
    "def mf2(I,feeling,friend):\n",
    "    for f in friend:\n",
    "        print(f'{I} {feeling} {f}')"
   ]
  },
  {
   "cell_type": "code",
   "execution_count": 20,
   "metadata": {},
   "outputs": [
    {
     "name": "stdout",
     "output_type": "stream",
     "text": [
      "min love เบิร์ด\n",
      "min love เอิร์น\n",
      "min love ไอ่\n",
      "min love ขวัญ\n",
      "min love ดิว\n"
     ]
    }
   ],
   "source": [
    "mf2('min','love',list_F)"
   ]
  },
  {
   "cell_type": "markdown",
   "metadata": {},
   "source": [
    "## looping in dict"
   ]
  },
  {
   "cell_type": "code",
   "execution_count": 21,
   "metadata": {},
   "outputs": [],
   "source": [
    "name_grade = {'thachamin':'B','supanita':'C','panatda':'A','phuwanat':'F'}"
   ]
  },
  {
   "cell_type": "code",
   "execution_count": 22,
   "metadata": {},
   "outputs": [
    {
     "data": {
      "text/plain": [
       "{'thachamin': 'B', 'supanita': 'C', 'panatda': 'A', 'phuwanat': 'F'}"
      ]
     },
     "execution_count": 22,
     "metadata": {},
     "output_type": "execute_result"
    }
   ],
   "source": [
    "name_grade"
   ]
  },
  {
   "cell_type": "code",
   "execution_count": 23,
   "metadata": {},
   "outputs": [
    {
     "data": {
      "text/plain": [
       "'B'"
      ]
     },
     "execution_count": 23,
     "metadata": {},
     "output_type": "execute_result"
    }
   ],
   "source": [
    "name_grade['thachamin']"
   ]
  },
  {
   "cell_type": "code",
   "execution_count": 24,
   "metadata": {},
   "outputs": [
    {
     "name": "stdout",
     "output_type": "stream",
     "text": [
      "thachamin\n",
      "supanita\n",
      "panatda\n",
      "phuwanat\n"
     ]
    }
   ],
   "source": [
    "for i in name_grade.keys():\n",
    "    print(i)"
   ]
  },
  {
   "cell_type": "code",
   "execution_count": 25,
   "metadata": {},
   "outputs": [
    {
     "data": {
      "text/plain": [
       "dict_keys(['thachamin', 'supanita', 'panatda', 'phuwanat'])"
      ]
     },
     "execution_count": 25,
     "metadata": {},
     "output_type": "execute_result"
    }
   ],
   "source": [
    "name_grade.keys()"
   ]
  },
  {
   "cell_type": "code",
   "execution_count": 26,
   "metadata": {},
   "outputs": [
    {
     "name": "stdout",
     "output_type": "stream",
     "text": [
      "thachamin ได้เกรด B\n",
      "supanita ได้เกรด C\n",
      "panatda ได้เกรด A\n",
      "phuwanat ได้เกรด F\n"
     ]
    }
   ],
   "source": [
    "for i in name_grade.keys():\n",
    "    print(f'{i} ได้เกรด {name_grade[i]}')"
   ]
  },
  {
   "cell_type": "markdown",
   "metadata": {},
   "source": [
    "## loop in loop"
   ]
  },
  {
   "cell_type": "code",
   "execution_count": 27,
   "metadata": {},
   "outputs": [
    {
     "name": "stdout",
     "output_type": "stream",
     "text": [
      "เบิร์ด love เบิร์ด\n",
      "เบิร์ด love เอิร์น\n",
      "เบิร์ด love ไอ่\n",
      "เบิร์ด love ขวัญ\n",
      "เบิร์ด love ดิว\n",
      "เอิร์น love เบิร์ด\n",
      "เอิร์น love เอิร์น\n",
      "เอิร์น love ไอ่\n",
      "เอิร์น love ขวัญ\n",
      "เอิร์น love ดิว\n",
      "ไอ่ love เบิร์ด\n",
      "ไอ่ love เอิร์น\n",
      "ไอ่ love ไอ่\n",
      "ไอ่ love ขวัญ\n",
      "ไอ่ love ดิว\n",
      "ขวัญ love เบิร์ด\n",
      "ขวัญ love เอิร์น\n",
      "ขวัญ love ไอ่\n",
      "ขวัญ love ขวัญ\n",
      "ขวัญ love ดิว\n",
      "ดิว love เบิร์ด\n",
      "ดิว love เอิร์น\n",
      "ดิว love ไอ่\n",
      "ดิว love ขวัญ\n",
      "ดิว love ดิว\n"
     ]
    }
   ],
   "source": [
    "for name1 in list_F:\n",
    "    for name2 in list_F:\n",
    "        mf(name1,'love',name2)"
   ]
  },
  {
   "cell_type": "markdown",
   "metadata": {},
   "source": [
    "## conditional"
   ]
  },
  {
   "cell_type": "markdown",
   "metadata": {},
   "source": [
    "```python\n",
    "if conditional1:\n",
    "    do something\n",
    "elif conditional2:\n",
    "    do another thing\n",
    "else:\n",
    "    do...\n",
    "```"
   ]
  },
  {
   "cell_type": "code",
   "execution_count": 28,
   "metadata": {},
   "outputs": [
    {
     "name": "stdout",
     "output_type": "stream",
     "text": [
      "เบิร์ด love เอิร์น\n",
      "เบิร์ด love ไอ่\n",
      "เบิร์ด love ขวัญ\n",
      "เบิร์ด love ดิว\n",
      "เอิร์น love เบิร์ด\n",
      "เอิร์น love ไอ่\n",
      "เอิร์น love ขวัญ\n",
      "เอิร์น love ดิว\n",
      "ไอ่ love เบิร์ด\n",
      "ไอ่ love เอิร์น\n",
      "ไอ่ love ขวัญ\n",
      "ไอ่ love ดิว\n",
      "ขวัญ love เบิร์ด\n",
      "ขวัญ love เอิร์น\n",
      "ขวัญ love ไอ่\n",
      "ขวัญ love ดิว\n",
      "ดิว love เบิร์ด\n",
      "ดิว love เอิร์น\n",
      "ดิว love ไอ่\n",
      "ดิว love ขวัญ\n"
     ]
    }
   ],
   "source": [
    "for name1 in list_F:\n",
    "    for name2 in list_F:\n",
    "        if name1 !=name2:\n",
    "            mf(name1,'love',name2)"
   ]
  },
  {
   "cell_type": "code",
   "execution_count": 29,
   "metadata": {},
   "outputs": [
    {
     "name": "stdout",
     "output_type": "stream",
     "text": [
      "Yes\n"
     ]
    }
   ],
   "source": [
    "if True:\n",
    "    print('Yes')"
   ]
  },
  {
   "cell_type": "code",
   "execution_count": 30,
   "metadata": {},
   "outputs": [],
   "source": [
    "if False:\n",
    "    print('No')"
   ]
  },
  {
   "cell_type": "code",
   "execution_count": 31,
   "metadata": {},
   "outputs": [
    {
     "name": "stdout",
     "output_type": "stream",
     "text": [
      "No\n"
     ]
    }
   ],
   "source": [
    "if False:\n",
    "    print('Yes')\n",
    "else:\n",
    "    print('No')"
   ]
  },
  {
   "cell_type": "code",
   "execution_count": 32,
   "metadata": {},
   "outputs": [
    {
     "data": {
      "text/plain": [
       "True"
      ]
     },
     "execution_count": 32,
     "metadata": {},
     "output_type": "execute_result"
    }
   ],
   "source": [
    "1 == 1"
   ]
  },
  {
   "cell_type": "code",
   "execution_count": 33,
   "metadata": {},
   "outputs": [
    {
     "name": "stdout",
     "output_type": "stream",
     "text": [
      "1=1\n"
     ]
    }
   ],
   "source": [
    "if 1 == 1:\n",
    "    print('1=1')"
   ]
  },
  {
   "cell_type": "markdown",
   "metadata": {},
   "source": [
    "##  HW\n",
    "### เขียน function ตัดเกรดโดยที่ input เป้น คะแนน output เป็นเกรด\n",
    "### [1,50,65,90,101,-5,49]"
   ]
  },
  {
   "cell_type": "code",
   "execution_count": 3,
   "metadata": {},
   "outputs": [],
   "source": [
    "list_grade = [1,50,65,90,101,-5,49]"
   ]
  },
  {
   "cell_type": "code",
   "execution_count": 4,
   "metadata": {},
   "outputs": [
    {
     "name": "stdout",
     "output_type": "stream",
     "text": [
      "grade = F\n",
      "grade = D\n",
      "grade = C+\n",
      "grade = A\n",
      "error\n",
      "error\n",
      "grade = F\n"
     ]
    }
   ],
   "source": [
    "for i in list_grade:\n",
    "    if   100>= i >= 80:\n",
    "        print('grade = A')\n",
    "    elif 80> i >=75:\n",
    "        print('grade = B+')\n",
    "    elif 75> i >=70:\n",
    "        print('grade = B')\n",
    "    elif 70> i >=65:\n",
    "        print('grade = C+')\n",
    "    elif 65> i >=60:\n",
    "        print('grade = C')\n",
    "    elif 60> i >=55:\n",
    "        print('grade = D+')\n",
    "    elif  55> i >=50:\n",
    "        print('grade = D')\n",
    "    elif  50> i >=0:\n",
    "        print('grade = F')\n",
    "    elif  i >100:\n",
    "        print('error')\n",
    "    elif  i <1:\n",
    "        print('error')       "
   ]
  },
  {
   "cell_type": "code",
   "execution_count": null,
   "metadata": {},
   "outputs": [],
   "source": []
  },
  {
   "cell_type": "code",
   "execution_count": null,
   "metadata": {},
   "outputs": [],
   "source": []
  }
 ],
 "metadata": {
  "kernelspec": {
   "display_name": "Python 3",
   "language": "python",
   "name": "python3"
  },
  "language_info": {
   "codemirror_mode": {
    "name": "ipython",
    "version": 3
   },
   "file_extension": ".py",
   "mimetype": "text/x-python",
   "name": "python",
   "nbconvert_exporter": "python",
   "pygments_lexer": "ipython3",
   "version": "3.7.3"
  }
 },
 "nbformat": 4,
 "nbformat_minor": 2
}
