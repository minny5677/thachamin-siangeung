{
 "cells": [
  {
   "cell_type": "markdown",
   "metadata": {},
   "source": [
    "1.สร้าง function ชื่อ smartDict ซึ่งทำหน้าที่\n",
    "    - fuction รับ input เป็น list 2 ตัวที่มีขนาดเท่ากันโดย list ตัวแรกเป็น list ของตัวเลข list ตัวที่สองเป็น list ของ text\n",
    "    - ถ้าค่าใน list แรกเป็นเลข คี่ ให้ค่าใน dict ที่เป็น output มี key เป็นค่าจาก list ตัวที่ 1 และ value จาก list ตัวที่ 2\n",
    "    - ถ้าค่าใน list แรกเป็นเลข คู่ ให้ค่าใน dict ที่เป็น output มี key เป็นค่าจาก list ตัวที่ 2 และ value จาก list ตัวที่ 1"
   ]
  },
  {
   "cell_type": "code",
   "execution_count": 1,
   "metadata": {},
   "outputs": [],
   "source": [
    "def smartDict(list_number,list_text):\n",
    "    retdict = {}\n",
    "    for i in range(len(list_number)):\n",
    "        if int(list_number[i]%2 == 1):\n",
    "            retdict[list_number[i]] = list_text[i]\n",
    "        else:\n",
    "            retdict[list_text[i]] = list_number[i]\n",
    "    return (retdict)\n",
    "            "
   ]
  },
  {
   "cell_type": "code",
   "execution_count": 2,
   "metadata": {},
   "outputs": [
    {
     "data": {
      "text/plain": [
       "{1: 'apple', 'banana': 2, 3: 'orange'}"
      ]
     },
     "execution_count": 2,
     "metadata": {},
     "output_type": "execute_result"
    }
   ],
   "source": [
    "smartDict([ 1 , 2 ,3],[ 'apple' , 'banana', 'orange' ])"
   ]
  },
  {
   "cell_type": "markdown",
   "metadata": {},
   "source": [
    "2. จากไฟล์ wuhan_nCov_GNome.txt จงเขียนโปรแกรมเพื่อตอบคำถามต่อไปนี้\n",
    "    - กรดอะมิโนใด (A,T,G,C) มีปริมาณมากที่สุดและมีเท่าไหร่\n",
    "    - จงหา sequence ที่มีขนาด 3 และ 4 ที่เกิดขึ้นซ้ำกันมากที่สุด"
   ]
  },
  {
   "cell_type": "markdown",
   "metadata": {},
   "source": [
    "2.1 กรดอะมิโนใด (A,T,G,C) มีปริมาณมากที่สุดและมีเท่าไหร่"
   ]
  },
  {
   "cell_type": "code",
   "execution_count": 3,
   "metadata": {},
   "outputs": [],
   "source": [
    "import pandas as pd"
   ]
  },
  {
   "cell_type": "code",
   "execution_count": 4,
   "metadata": {},
   "outputs": [],
   "source": [
    "DNA = pd.read_csv('Wuhan_nCoV_GNome.txt',header=None)"
   ]
  },
  {
   "cell_type": "code",
   "execution_count": 5,
   "metadata": {},
   "outputs": [],
   "source": [
    "def DNA_num(seq,char):\n",
    "    charcount = 0\n",
    "    for i in seq : \n",
    "        if i == char:\n",
    "            charcount += 1\n",
    "    return charcount"
   ]
  },
  {
   "cell_type": "code",
   "execution_count": 6,
   "metadata": {},
   "outputs": [
    {
     "data": {
      "text/plain": [
       "19"
      ]
     },
     "execution_count": 6,
     "metadata": {},
     "output_type": "execute_result"
    }
   ],
   "source": [
    "DNA_num(DNA.iloc[1][0],'A')"
   ]
  },
  {
   "cell_type": "code",
   "execution_count": 7,
   "metadata": {},
   "outputs": [
    {
     "name": "stdout",
     "output_type": "stream",
     "text": [
      "A = 8954 T = 9594 G =5863 C = 5492\n"
     ]
    }
   ],
   "source": [
    "Along = 0\n",
    "Tlong = 0\n",
    "Glong = 0\n",
    "Clong = 0\n",
    "for i in range(len(DNA)): \n",
    "    Along += DNA_num(DNA.iloc[i][0],'A') \n",
    "    Tlong += DNA_num(DNA.iloc[i][0],'T')\n",
    "    Glong += DNA_num(DNA.iloc[i][0],'G')\n",
    "    Clong += DNA_num(DNA.iloc[i][0],'C')\n",
    "print(f'A = {Along} T = {Tlong} G ={Glong} C = {Clong}')"
   ]
  },
  {
   "cell_type": "code",
   "execution_count": 8,
   "metadata": {},
   "outputs": [
    {
     "data": {
      "text/plain": [
       "8954"
      ]
     },
     "execution_count": 8,
     "metadata": {},
     "output_type": "execute_result"
    }
   ],
   "source": [
    "Along"
   ]
  },
  {
   "cell_type": "code",
   "execution_count": 9,
   "metadata": {},
   "outputs": [],
   "source": [
    "DNA_count = {'A':Along,'T':Tlong,'G':Glong,'C':Clong}"
   ]
  },
  {
   "cell_type": "code",
   "execution_count": 10,
   "metadata": {},
   "outputs": [
    {
     "data": {
      "text/plain": [
       "{'A': 8954, 'T': 9594, 'G': 5863, 'C': 5492}"
      ]
     },
     "execution_count": 10,
     "metadata": {},
     "output_type": "execute_result"
    }
   ],
   "source": [
    "DNA_count"
   ]
  },
  {
   "cell_type": "code",
   "execution_count": 11,
   "metadata": {},
   "outputs": [],
   "source": [
    "MaxDNA = 0\n",
    "Maxkey = None\n",
    "for i in DNA_count.keys():\n",
    "    if DNA_count[i] > MaxDNA:\n",
    "        MaxDNA = DNA_count[i]\n",
    "        Maxkey = i"
   ]
  },
  {
   "cell_type": "code",
   "execution_count": 12,
   "metadata": {},
   "outputs": [
    {
     "data": {
      "text/plain": [
       "'T'"
      ]
     },
     "execution_count": 12,
     "metadata": {},
     "output_type": "execute_result"
    }
   ],
   "source": [
    "Maxkey"
   ]
  },
  {
   "cell_type": "code",
   "execution_count": 13,
   "metadata": {},
   "outputs": [
    {
     "name": "stdout",
     "output_type": "stream",
     "text": [
      "กรดอะมิโนที่มีปริมาณมากที่สุดคือ T มีปริมาณทั้งหมด 9594 ตัว\n"
     ]
    }
   ],
   "source": [
    "print(f'กรดอะมิโนที่มีปริมาณมากที่สุดคือ {Maxkey} มีปริมาณทั้งหมด {MaxDNA} ตัว')"
   ]
  },
  {
   "cell_type": "markdown",
   "metadata": {},
   "source": [
    "ข้อ 2.2 จงหา sequence ที่มีขนาด 3 และ 4 ที่เกิดขึ้นซ้ำกันมากที่สุด"
   ]
  },
  {
   "cell_type": "code",
   "execution_count": 14,
   "metadata": {},
   "outputs": [],
   "source": [
    "def DNA_long3(seq):\n",
    "    DNA_long3 = []\n",
    "    for i in range(len(seq)-2):\n",
    "        DNA_long3.append(seq[i:i+3])\n",
    "    return DNA_long3"
   ]
  },
  {
   "cell_type": "code",
   "execution_count": 15,
   "metadata": {},
   "outputs": [],
   "source": [
    "listDNA_long3 = []\n",
    "for i in range(len(DNA)):\n",
    "    listDNA_long3 += DNA_long3(DNA.iloc[i][0])"
   ]
  },
  {
   "cell_type": "code",
   "execution_count": 16,
   "metadata": {},
   "outputs": [
    {
     "data": {
      "text/plain": [
       "29047"
      ]
     },
     "execution_count": 16,
     "metadata": {},
     "output_type": "execute_result"
    }
   ],
   "source": [
    "len(listDNA_long3)"
   ]
  },
  {
   "cell_type": "code",
   "execution_count": 17,
   "metadata": {},
   "outputs": [],
   "source": [
    "unique_char3=set(listDNA_long3)"
   ]
  },
  {
   "cell_type": "code",
   "execution_count": 18,
   "metadata": {},
   "outputs": [
    {
     "data": {
      "text/plain": [
       "64"
      ]
     },
     "execution_count": 18,
     "metadata": {},
     "output_type": "execute_result"
    }
   ],
   "source": [
    "len(unique_char3)"
   ]
  },
  {
   "cell_type": "code",
   "execution_count": 19,
   "metadata": {},
   "outputs": [],
   "source": [
    "dic_long3 = {}\n",
    "for i in unique_char3:\n",
    "    num = 0 \n",
    "    for j in listDNA_long3:\n",
    "        if i == j:\n",
    "            num += 1\n",
    "    dic_long3[i] = num"
   ]
  },
  {
   "cell_type": "code",
   "execution_count": 20,
   "metadata": {},
   "outputs": [
    {
     "data": {
      "text/plain": [
       "{'CAA': 681,\n",
       " 'GGT': 442,\n",
       " 'CTC': 276,\n",
       " 'ACA': 789,\n",
       " 'CGA': 91,\n",
       " 'TGC': 530,\n",
       " 'AAC': 595,\n",
       " 'AGT': 493,\n",
       " 'ATT': 749,\n",
       " 'GAA': 524,\n",
       " 'GCA': 363,\n",
       " 'ATG': 701,\n",
       " 'AGG': 317,\n",
       " 'GAT': 430,\n",
       " 'CTG': 483,\n",
       " 'GAC': 328,\n",
       " 'GCT': 509,\n",
       " 'GGA': 272,\n",
       " 'AAA': 899,\n",
       " 'TCT': 526,\n",
       " 'CGG': 74,\n",
       " 'CAG': 424,\n",
       " 'TAA': 688,\n",
       " 'TAG': 414,\n",
       " 'TGG': 540,\n",
       " 'CCG': 70,\n",
       " 'CCA': 336,\n",
       " 'GGC': 217,\n",
       " 'CAT': 472,\n",
       " 'GAG': 290,\n",
       " 'TAT': 601,\n",
       " 'CTT': 720,\n",
       " 'TTT': 984,\n",
       " 'GTG': 532,\n",
       " 'GTC': 265,\n",
       " 'CGC': 92,\n",
       " 'ACG': 157,\n",
       " 'GTT': 686,\n",
       " 'AAT': 735,\n",
       " 'TCA': 536,\n",
       " 'AGC': 292,\n",
       " 'CAC': 447,\n",
       " 'GTA': 458,\n",
       " 'TGT': 834,\n",
       " 'GGG': 131,\n",
       " 'TGA': 602,\n",
       " 'TCG': 110,\n",
       " 'CTA': 543,\n",
       " 'TTG': 800,\n",
       " 'ATA': 456,\n",
       " 'AAG': 564,\n",
       " 'CCT': 332,\n",
       " 'ACT': 660,\n",
       " 'TAC': 591,\n",
       " 'ATC': 336,\n",
       " 'GCC': 184,\n",
       " 'AGA': 582,\n",
       " 'GCG': 86,\n",
       " 'TTC': 509,\n",
       " 'CCC': 113,\n",
       " 'TTA': 853,\n",
       " 'ACC': 364,\n",
       " 'CGT': 166,\n",
       " 'TCC': 203}"
      ]
     },
     "execution_count": 20,
     "metadata": {},
     "output_type": "execute_result"
    }
   ],
   "source": [
    " dic_long3"
   ]
  },
  {
   "cell_type": "code",
   "execution_count": 21,
   "metadata": {},
   "outputs": [],
   "source": [
    "MaxV = -100\n",
    "Maxkey = None\n",
    "for i in  dic_long3.keys():\n",
    "    if  dic_long3[i] > MaxV:\n",
    "        MaxV =  dic_long3[i]\n",
    "        Maxkey = i"
   ]
  },
  {
   "cell_type": "code",
   "execution_count": 22,
   "metadata": {},
   "outputs": [
    {
     "name": "stdout",
     "output_type": "stream",
     "text": [
      "sequence ที่มีขนาด 3 ที่เกิดขึ้นซ้ำกันมากที่สุด คือ TTT\n"
     ]
    }
   ],
   "source": [
    "print(f'sequence ที่มีขนาด 3 ที่เกิดขึ้นซ้ำกันมากที่สุด คือ {Maxkey}')"
   ]
  },
  {
   "cell_type": "code",
   "execution_count": 23,
   "metadata": {},
   "outputs": [],
   "source": [
    "def DNA_long4(seq):\n",
    "    DNA_long4 = []\n",
    "    for i in range(len(seq)-3):\n",
    "        DNA_long4.append(seq[i:i+4])\n",
    "    return DNA_long4"
   ]
  },
  {
   "cell_type": "code",
   "execution_count": 24,
   "metadata": {},
   "outputs": [],
   "source": [
    "listDNA_long4 = []\n",
    "for i in range(len(DNA)):\n",
    "    listDNA_long4 += DNA_long4(DNA.iloc[i][0])"
   ]
  },
  {
   "cell_type": "code",
   "execution_count": 25,
   "metadata": {},
   "outputs": [],
   "source": [
    "unique_char4=set(listDNA_long4)"
   ]
  },
  {
   "cell_type": "code",
   "execution_count": 26,
   "metadata": {},
   "outputs": [],
   "source": [
    "dic_long4 = {}\n",
    "for i in unique_char4:\n",
    "    num = 0 \n",
    "    for j in listDNA_long4:\n",
    "        if i == j:\n",
    "            num += 1\n",
    "    dic_long4[i] = num"
   ]
  },
  {
   "cell_type": "code",
   "execution_count": 27,
   "metadata": {},
   "outputs": [],
   "source": [
    "MaxV = -100\n",
    "Maxkey = None\n",
    "for i in  dic_long4.keys():\n",
    "    if  dic_long4[i] > MaxV:\n",
    "        MaxV =  dic_long4[i]\n",
    "        Maxkey = i"
   ]
  },
  {
   "cell_type": "code",
   "execution_count": 28,
   "metadata": {},
   "outputs": [
    {
     "name": "stdout",
     "output_type": "stream",
     "text": [
      "sequence ที่มีขนาด 4 ที่เกิดขึ้นซ้ำกันมากที่สุด คือ TGTT\n"
     ]
    }
   ],
   "source": [
    "print(f'sequence ที่มีขนาด 4 ที่เกิดขึ้นซ้ำกันมากที่สุด คือ {Maxkey}')"
   ]
  },
  {
   "cell_type": "markdown",
   "metadata": {},
   "source": [
    "ข้อ 3 จากไฟล์ data.xlsx สร้างตาราง\n",
    "    - ใหม่ที่มี 2 คอลัมล์ โดย คอลัมล์แรกชื่อว่า ภาษาอีสาน และมีค่าในคอลัมล์ เป็นค่าจากภาษาอีสานเดิมแต่เปลี่ยนคำที่เป็น '/' เป็น ',' \n",
    "    และคอลัมล์ที่สองชื่อสองชื่อว่า ภาษาไทย และค่าในคอลัมล์เป็นค่าจากคอลัมล์ ภาษาไทยเดิมแต่เปลี่ยนคำที่เป็น '/' เป็น ',' \n",
    "    - สร้างตาราง Dictionary โดยตารางประกอบด้วย 2 คอลัมล์ คือภาษาอีสาน และภาษษไทย โดยค่าในคอลลัมภาษาอีสานคือคำในภาษาอีสาน\n",
    "    และคอลัมล์ภาษาไทยคือคำแปลเป็นภาษากลางของภาษาอีสานในคอลัมล์แรก"
   ]
  },
  {
   "cell_type": "markdown",
   "metadata": {},
   "source": [
    "3.1 ใหม่ที่มี 2 คอลัมล์ โดย คอลัมล์แรกชื่อว่า ภาษาอีสาน และมีค่าในคอลัมล์ เป็นค่าจากภาษาอีสานเดิมแต่เปลี่ยนคำที่เป็น '/' เป็น ',' \n",
    "และคอลัมล์ที่สองชื่อสองชื่อว่า ภาษาไทย และค่าในคอลัมล์เป็นค่าจากคอลัมล์ ภาษาไทยเดิมแต่เปลี่ยนคำที่เป็น '/' เป็น ',' "
   ]
  },
  {
   "cell_type": "code",
   "execution_count": 79,
   "metadata": {},
   "outputs": [],
   "source": [
    "import pandas as pd"
   ]
  },
  {
   "cell_type": "code",
   "execution_count": 80,
   "metadata": {},
   "outputs": [],
   "source": [
    "col = ['ภาษาอีสาน' , 'ภาษาไทย'] \n",
    "Data = pd.DataFrame.from_records([],columns = col) \n",
    "for i in range(32):\n",
    "    df = pd.read_excel('data.xlsx', sheet_name = i, usecols = 'B:C', skipfooter = 1)\n",
    "    Data = pd.concat([Data,df], axis = 0, ignore_index = True)"
   ]
  },
  {
   "cell_type": "code",
   "execution_count": 81,
   "metadata": {},
   "outputs": [],
   "source": [
    "def replacestr(column1):\n",
    "    column1 = column1.replace(\"/\", \",\")\n",
    "    return column1"
   ]
  },
  {
   "cell_type": "code",
   "execution_count": 82,
   "metadata": {},
   "outputs": [
    {
     "data": {
      "text/plain": [
       "'สวัสดี,ทุก ๆ คน,นะ,คะ'"
      ]
     },
     "execution_count": 82,
     "metadata": {},
     "output_type": "execute_result"
    }
   ],
   "source": [
    "replacestr(Data.iloc[0,1])"
   ]
  },
  {
   "cell_type": "code",
   "execution_count": 83,
   "metadata": {},
   "outputs": [],
   "source": [
    "list_x = []\n",
    "list_y = []\n",
    "for i in range(len(Data)):\n",
    "    list_x.append(replacestr(Data.iloc[i]['ภาษาอีสาน']))\n",
    "    list_y.append(replacestr(Data.iloc[i]['ภาษาไทย']))"
   ]
  },
  {
   "cell_type": "code",
   "execution_count": 84,
   "metadata": {},
   "outputs": [],
   "source": [
    "Data['ภาษาอีสาน'] = list_x \n",
    "Data['ภาษาไทย'] = list_y"
   ]
  },
  {
   "cell_type": "code",
   "execution_count": 85,
   "metadata": {},
   "outputs": [
    {
     "data": {
      "text/html": [
       "<div>\n",
       "<style scoped>\n",
       "    .dataframe tbody tr th:only-of-type {\n",
       "        vertical-align: middle;\n",
       "    }\n",
       "\n",
       "    .dataframe tbody tr th {\n",
       "        vertical-align: top;\n",
       "    }\n",
       "\n",
       "    .dataframe thead th {\n",
       "        text-align: right;\n",
       "    }\n",
       "</style>\n",
       "<table border=\"1\" class=\"dataframe\">\n",
       "  <thead>\n",
       "    <tr style=\"text-align: right;\">\n",
       "      <th></th>\n",
       "      <th>ภาษาอีสาน</th>\n",
       "      <th>ภาษาไทย</th>\n",
       "    </tr>\n",
       "  </thead>\n",
       "  <tbody>\n",
       "    <tr>\n",
       "      <th>0</th>\n",
       "      <td>สวัสดี,สุผู้สุคน,เด้อ,จ้า</td>\n",
       "      <td>สวัสดี,ทุก ๆ คน,นะ,คะ</td>\n",
       "    </tr>\n",
       "    <tr>\n",
       "      <th>1</th>\n",
       "      <td>กิน,ข้าว,ก่อน,เด้อ,จ้า, ไผ,สิ,ถ่า,เค้า,ดาวน์</td>\n",
       "      <td>กิน,ข้าว,ก่อน,นะ,จ้ะ,ใคร,จะ,รอ,เค้า,ดาวน์</td>\n",
       "    </tr>\n",
       "    <tr>\n",
       "      <th>2</th>\n",
       "      <td>เค้า,ดาว,กะ,ขอ,ให้,เค้า,ดาว,อย่าง,มี,ความ,สุข,...</td>\n",
       "      <td>เค้า,ดาวน์,ก็,ขอ,ให้,เค้า,ดาน์,อย่าง,มี,ความ,ส...</td>\n",
       "    </tr>\n",
       "    <tr>\n",
       "      <th>3</th>\n",
       "      <td>นี่,จ้า,อา,หาร,เย็น,เป็น,ลา,ซาน,ย่า,กับ,ผัก,สด...</td>\n",
       "      <td>นี่,จ้า,อา,หาร,เย็น,เป็น,ลา,ซาน,ย่า,กับ,ผัก,สด...</td>\n",
       "    </tr>\n",
       "    <tr>\n",
       "      <th>4</th>\n",
       "      <td>ขอ,ให้,เชิญ,แซ่บ,เด้อ,พี่,น้อง</td>\n",
       "      <td>ขอ,ให้,เชิญ,อร่อย,นะ,ทุก,คน</td>\n",
       "    </tr>\n",
       "    <tr>\n",
       "      <th>5</th>\n",
       "      <td>แมท,ธิว,บอก,ว่า,อี,แม่,อย่า,พึ่ง,หลับ,เด้อ</td>\n",
       "      <td>แมท,ธิว,บอก,ว่า,คุณ,แม่,อย่า,พึ่ง,หลับ,นะ</td>\n",
       "    </tr>\n",
       "    <tr>\n",
       "      <th>6</th>\n",
       "      <td>เงียบ,แฮงจัด</td>\n",
       "      <td>เงียบ,มาก ๆ</td>\n",
       "    </tr>\n",
       "    <tr>\n",
       "      <th>7</th>\n",
       "      <td>บ่,มี,ความ,รื่น,เริง,อี,หยัง,เลย,ข้าง,นอก</td>\n",
       "      <td>ไม่,มี,ความ,รื่น,เริง,อะ,ไร,เลย,ด้าน,นอก</td>\n",
       "    </tr>\n",
       "    <tr>\n",
       "      <th>8</th>\n",
       "      <td>มื้อ,นี้,สิ,เบิ่ง,พุ,ตอน,หก,ทุ่ม,จ่ะ</td>\n",
       "      <td>วัน,นี้,จะ,ดู,พุ,ตอน,หก,ทุ่ม,นะ,คะ</td>\n",
       "    </tr>\n",
       "    <tr>\n",
       "      <th>9</th>\n",
       "      <td>ถ้า,ฝน,ตก,หิ,มะ,ตก,คึ,สิ,บ่,ได้,ออก,ไป</td>\n",
       "      <td>ถ้า,ฝน,ตก,หิ,มะ,ตก,คง,จะ,ไม่,ได้,ออก,ไป</td>\n",
       "    </tr>\n",
       "    <tr>\n",
       "      <th>10</th>\n",
       "      <td>ปี,ที่,แล้ว,ออก,ไป,เบิ่ง,เขา,จุด,พุ,มัน,เป็น,ฝ...</td>\n",
       "      <td>ปี,ที่,แล้ว,ออก,ไป,ดู,เขา,จุด,พุ,มัน,เป็น,ฝน,ห...</td>\n",
       "    </tr>\n",
       "    <tr>\n",
       "      <th>11</th>\n",
       "      <td>เพิ่น,ก้ม,แบบ,คน,เมา,นะ,จ้ะ</td>\n",
       "      <td>เขา,ก้ม,แบบ,คน,เมา,อ่ะ,ค่ะ</td>\n",
       "    </tr>\n",
       "    <tr>\n",
       "      <th>12</th>\n",
       "      <td>ก้ม,ก้ม,ส่อง,พุ,เพิ่น,จุด,ละ,เพิ่น,กะ,ก้ม,ส่อง...</td>\n",
       "      <td>ก้ม,ก้ม,ส่อง,พุ,เขา,จุด,ละ,เขา,ก็,ก้ม,ส่อง,เขา...</td>\n",
       "    </tr>\n",
       "    <tr>\n",
       "      <th>13</th>\n",
       "      <td>เพิ่น,สิ,โซ,กล้าม,เพิ่น,หั่น,นะ,พี่น้อง</td>\n",
       "      <td>เขา,จะ,โชว์,กล้าม,เขา,นั่น,แหละ,ทุกคน</td>\n",
       "    </tr>\n",
       "    <tr>\n",
       "      <th>14</th>\n",
       "      <td>โอ,เค,จ้า,สุผู้สุคน,มื้อ,นี้,จั่ง,ใด๋,กะ,ขอบ,ค...</td>\n",
       "      <td>โอ,เค,จ้า,ทุก ๆ  คน,วัน,นี้,ยัง,ไง,ก็,ขอบ,คุณ,...</td>\n",
       "    </tr>\n",
       "    <tr>\n",
       "      <th>15</th>\n",
       "      <td>จ้า,พ้อ,กัน,ใหม่,ใน,คลิป,วิ,ดี,โอ,หน้า,สวัสดี,...</td>\n",
       "      <td>จ้า,เจอ,กัน,ใหม่,ใน,คลิป,วิ,ดี,โอ,หน้า,สวัสดี,...</td>\n",
       "    </tr>\n",
       "    <tr>\n",
       "      <th>16</th>\n",
       "      <td>สะ,หวัด,ดี,จ้า,สุผู้สุคน,เด้อ,จ้า</td>\n",
       "      <td>สะ,หวัด,ดี,จ้า,ทุก ๆ คน,นะ,คะ</td>\n",
       "    </tr>\n",
       "    <tr>\n",
       "      <th>17</th>\n",
       "      <td>อ้อ,ได้,รับ,อั่น,ไปรษณีย์,เนาะ,จ้า,ไปรษณีย์,เด...</td>\n",
       "      <td>อ้อ,ได้,รับ,เอิ่ม,ไปรษณีย์,นะ,คะ,ไปรษณีย์,เดี๋...</td>\n",
       "    </tr>\n",
       "    <tr>\n",
       "      <th>18</th>\n",
       "      <td>เออ,เพิ่น,เขียน,อั่น,ลุง,อั่น,ลุง,เขียน,อั่น,อ...</td>\n",
       "      <td>เอ่อ,เขา,เขียน,เอิ่ม,ลุง,เอิ่ม,ลุง,เขียน,เอิ่ม...</td>\n",
       "    </tr>\n",
       "    <tr>\n",
       "      <th>19</th>\n",
       "      <td>ลุง,ลุง,ฮา,หลาด,เป็น,เป็น,สา,มี,ของ,พี่,สาว,เน...</td>\n",
       "      <td>ลุง,ลุง,ฮา,หลาด,เป็น,เป็น,สา,มี,ของ,พี่,สาว,นะ...</td>\n",
       "    </tr>\n",
       "    <tr>\n",
       "      <th>20</th>\n",
       "      <td>โอ,เค้,ละ,กะ,มา,ต่อ,อั่น,เปิด,อั่น,นี้,เนาะ,จ่...</td>\n",
       "      <td>โอ,เค,แล้ว,ก็,มา,ต่อ,เอิ่ม,เปิด,อัน,นี้,นะ,คะ,...</td>\n",
       "    </tr>\n",
       "    <tr>\n",
       "      <th>21</th>\n",
       "      <td>สุ,ภา,พร,หงส์,ทอง,จ่ะ,น้อง,โอ๋,เนาะ,จ่ะ,พี่น้อ...</td>\n",
       "      <td>สุ,ภา,พร,หงส์,ทอง,จ้า,น้อง,โอ๋,เนาะ,จ้า,ทุกคน,...</td>\n",
       "    </tr>\n",
       "    <tr>\n",
       "      <th>22</th>\n",
       "      <td>ถาม,ว่า,เอา,ไป,ได้,บ่,เอา,ไป,บ่,ได้,หึ้ย,จ่ะ,เ...</td>\n",
       "      <td>ถาม,ว่า,เอา,ไป,ได้,ไหม,เอา,ไป,ไม่,ได้,หึ้ย,จ้า...</td>\n",
       "    </tr>\n",
       "    <tr>\n",
       "      <th>23</th>\n",
       "      <td>ไผ,ที่,ได้,เบิ่ง,คลิป,นี้,เนาะ,จ่ะ</td>\n",
       "      <td>ใคร,ที่,ได้,ดู,คลิป,นี้,นะ,คะ</td>\n",
       "    </tr>\n",
       "    <tr>\n",
       "      <th>24</th>\n",
       "      <td>เดี๋ยว,ให้,เพิ่น,มา,เปิด,อีก,เทื่อ,หลัง,จ่ะ,เด...</td>\n",
       "      <td>เดี๋ยว,ให้,เขา,มา,เปิด,อีก,ที,หลัง,จ้า,เดี๋ยว,ให้</td>\n",
       "    </tr>\n",
       "    <tr>\n",
       "      <th>25</th>\n",
       "      <td>อั่น,นี้,คือ,คือ,คือ,น้า,น้อง,โอ๋,น้อง,โอ๋,เพิ...</td>\n",
       "      <td>อัน,นี้,คือ,คือ,คือ,น้า,น้อง,โอ๋,น้อง,โอ๋,เขา,...</td>\n",
       "    </tr>\n",
       "    <tr>\n",
       "      <th>26</th>\n",
       "      <td>เพิ่น,กะ,เกรง,ใจ,เฮา,เฮา,กะ,เกรง,ใจ,เพิ่น,เด้จ...</td>\n",
       "      <td>เขา,ก็,เกรง,ใจ,เรา,เรา,ก็,เกรง,ใจ,เขา,นั่นแหละ...</td>\n",
       "    </tr>\n",
       "    <tr>\n",
       "      <th>27</th>\n",
       "      <td>โอ้ย,ซื้อ,ของ,ถืก,ใจ,มา,ให้,เพิ่น,เด้,น้า,โอ๋,...</td>\n",
       "      <td>โอ้ย,ซื้อ,ของ,ถูก,ใจ,มา,ให้,เขา,เนาะ,น้า,โอ๋,เอ้ย</td>\n",
       "    </tr>\n",
       "    <tr>\n",
       "      <th>28</th>\n",
       "      <td>อั่น,เพิ่น,มัก,ลิ,เวอร์,พูล,อยู่,แล้ว,หั่น,น้า</td>\n",
       "      <td>เอิ่ม,เขา,ชอบ,ลิ,เวอร์,พูล,อยู่,แล้ว,นั่น,แหละ</td>\n",
       "    </tr>\n",
       "    <tr>\n",
       "      <th>29</th>\n",
       "      <td>นี่,เปิด,จั่ง,สี้,ต้อง,เอา,อัน,นี้,ออก,จ่ะ</td>\n",
       "      <td>นี่,เปิด,อย่าง,นี้,ต้อง,เอา,อัน,นี้,ออก,จ้า</td>\n",
       "    </tr>\n",
       "    <tr>\n",
       "      <th>...</th>\n",
       "      <td>...</td>\n",
       "      <td>...</td>\n",
       "    </tr>\n",
       "    <tr>\n",
       "      <th>945</th>\n",
       "      <td>อ่า,มัน,กลาย,เป็น,หว่า,เฮา,ยู,ใน,กรอบ,ที,เฮา,เ...</td>\n",
       "      <td>อ่า,มัน,กลาย,เป็น,ว่า,เรา,อยู่,ใน,กรอบ,ที่,เรา...</td>\n",
       "    </tr>\n",
       "    <tr>\n",
       "      <th>946</th>\n",
       "      <td>ข่อย,บ่อ,จำ,เป็น,ต่อง,อัน,นี่,ทัง,ชี,วิต,แล่ว,...</td>\n",
       "      <td>ฉัน,ไม่,จำ,เป็น,ต้อง,อัน,นี้,ทั้ง,ชี,วิต,แล้ว,...</td>\n",
       "    </tr>\n",
       "    <tr>\n",
       "      <th>947</th>\n",
       "      <td>เส็ด,แล่ว,กะ,แต,กะ,ยั๊ง,ดี,ที,หว่า,มี,งาน,เฮ็ด...</td>\n",
       "      <td>เสร็จ,แล้ว,ก็,แต่,ก็,ยัง,ดี,ที่,ว่า,มี,งาน,ทำ,...</td>\n",
       "    </tr>\n",
       "    <tr>\n",
       "      <th>948</th>\n",
       "      <td>ซอย,งาน,บ้าน,พี,สาว,นำ,แล่ว,กะ,เฮ็ด,งาน,บ้าน,ป...</td>\n",
       "      <td>ช่วยย,งาน,บ้าน,พี่,สาว,ด้วย,แล้ว,ก็,ทำ,งาน,บ้า...</td>\n",
       "    </tr>\n",
       "    <tr>\n",
       "      <th>949</th>\n",
       "      <td>กะ,เล๊ย,เริ่ม,กศน,มอ,สาม,อ่า,เรียน,ไป่,นำ,แต,ห...</td>\n",
       "      <td>ก็,เลย,เริ่ม,กศน,มอ,สาม,อ่า,เรียน,ไป,ด้วย,แต่,...</td>\n",
       "    </tr>\n",
       "    <tr>\n",
       "      <th>950</th>\n",
       "      <td>แล่ว,ก่อ,เฮ็ด,งาน,ไป,นำ,ช่วง,นั้น,กะ,อ่า,มี,เพ...</td>\n",
       "      <td>แล้ว,ก็,ทำ,งาน,ไป,ด้วย,ช่วง,นั้น,ก็,อ่า,มี,เพื...</td>\n",
       "    </tr>\n",
       "    <tr>\n",
       "      <th>951</th>\n",
       "      <td>แล่ว,กะ,เป็น,มู,สนิท,กัน,มา,เนาะ,จ้า,มู,สนิท,ก...</td>\n",
       "      <td>แล้ว,ก็,เป็น,เพื่อน,สนิท,กัน,มา,นะ,คะ,เพื่อน,ส...</td>\n",
       "    </tr>\n",
       "    <tr>\n",
       "      <th>952</th>\n",
       "      <td>แล่ว,กะ,อ่า,ไป่,กะ,ตอน,นั่น,กะ,ยั๊ง,บ่อ,ทัน,ได...</td>\n",
       "      <td>แล้ว,ก็,อ่า,ไป,ก็,ตอน,นั้น,ก็,ยัง,ไม่,ทัน,ได้,...</td>\n",
       "    </tr>\n",
       "    <tr>\n",
       "      <th>953</th>\n",
       "      <td>อ่า,ขอ,อนุญาต,เพิ่น,ออก,ไป่,ยู,คน,เดียว,ข่าง,น...</td>\n",
       "      <td>อ่า,ขอ,อนุญาต,เขา,ออก,ไป,อยู่,คน,เดียว,ข้าง,นอ...</td>\n",
       "    </tr>\n",
       "    <tr>\n",
       "      <th>954</th>\n",
       "      <td>แต,กะ,เฮา,กะ,ได๋,ออก,ไป,ยู,ข่าง,นอก,นะ,พี,น้อง...</td>\n",
       "      <td>แต่,ก็,เรา,ก็,ได้,ออก,ไป,อยู่,ข้าง,นอก,นะ,ทุก,...</td>\n",
       "    </tr>\n",
       "    <tr>\n",
       "      <th>955</th>\n",
       "      <td>พ๊อ,ดี,ชวง,นั้น,มู,มา,ยู,นำ,เนาะ,จ้า,เพิ่น,กะ,...</td>\n",
       "      <td>พอ,ดี,ช่วง,นั้น,เพื่อน,มา,อยู่,ด้วย,นะ,คะ,เขา,...</td>\n",
       "    </tr>\n",
       "    <tr>\n",
       "      <th>956</th>\n",
       "      <td>น่ะ,กะ,คือ,ต้ม,มา,ม่า,กิน,ข่อย,เอิ้น,เพิ่น,อี,...</td>\n",
       "      <td>นะ,ก็,คือ,ต้ม,มา,ม่า,กิน,ฉัน,เรียก,เขา,อี,หอย,...</td>\n",
       "    </tr>\n",
       "    <tr>\n",
       "      <th>957</th>\n",
       "      <td>อัน,มา,มา,ซอย,มู,อัน,ที,มา,ยู,นำ,จัง,ซี่,แล่ว,...</td>\n",
       "      <td>อัน,มา,มา,ช่วย,เพื่อน,อัน,ที่,มา,อยู่,ด้วย,แบบ...</td>\n",
       "    </tr>\n",
       "    <tr>\n",
       "      <th>958</th>\n",
       "      <td>แต,กะ,แต,กะ,ยั๊ง,โซค,ดี,เฮา,แบบ,ยัง,มี,งาน,ประ...</td>\n",
       "      <td>แต่,ก็,แต่,ก็,ยัง,โชค,ดี,เรา,แบบ,ยัง,มี,งาน,ปร...</td>\n",
       "    </tr>\n",
       "    <tr>\n",
       "      <th>959</th>\n",
       "      <td>เส็ด,แล่ว,อ่า,อ่า,แล่ว,กะ,มี,มื้อ,นึง,ข่อย,ออก...</td>\n",
       "      <td>เสร็จ,แล้ว,อ่า,อ่า,แล้ว,ก็,มี,วัน,หนึ่ง,ฉัน,ออ...</td>\n",
       "    </tr>\n",
       "    <tr>\n",
       "      <th>960</th>\n",
       "      <td>กะ,คือ,หัว,หน่า,เพิ่น,กะ,ยั๊ง,แบบ,จ๊บ,สัมมนา,เ...</td>\n",
       "      <td>ก็,คือ,หัว,หน้า,เขา,ก็,ยัง,แบบ,จบ,สัมมนา,เขา,ก...</td>\n",
       "    </tr>\n",
       "    <tr>\n",
       "      <th>961</th>\n",
       "      <td>กะ,เล๊ย,ทัก,ทาย,เพิ่น,ไป,เพิ่น,กะ,บอก,หว่า,มาย...</td>\n",
       "      <td>ก็,เลย,ทัก,ทาย,เขา,ไป,เขา,ก็,บอก,ว่า,มาย,เนม,อ...</td>\n",
       "    </tr>\n",
       "    <tr>\n",
       "      <th>962</th>\n",
       "      <td>ทิ่ม,เบอร์,อัน,นาย,ไม,เคิล,เพิ่น,กะ,ทิ่ม,เบอร์...</td>\n",
       "      <td>ทิ้ง,เบอร์,อัน,นาย,ไม,เคิล,เขา,ก็,ทิ้ง,เบอร์,โ...</td>\n",
       "    </tr>\n",
       "    <tr>\n",
       "      <th>963</th>\n",
       "      <td>กะ,เล๊ย,หว่า,อัน,ถือ,หลัง,จาก,สิ,จ๊บ,สนทนา,แล่...</td>\n",
       "      <td>ก็,เลย,ว่า,อัน,ถือ,หลัง,จาก,จะ,จบ,สนทนา,แล้ว,ก...</td>\n",
       "    </tr>\n",
       "    <tr>\n",
       "      <th>964</th>\n",
       "      <td>อ่า,เพิ่น,ให่,นัม,เบอร์,มา,กะ,เล๊ย,หว่า,อัน,ตอ...</td>\n",
       "      <td>อ่า,เขา,ให้,นัม,เบอร์,มา,ก็,เลย,ว่า,อัน,ตอน,คุ...</td>\n",
       "    </tr>\n",
       "    <tr>\n",
       "      <th>965</th>\n",
       "      <td>แต,หว่า,เพิ่น,น่ะ,เว้า,พ๊า,สา,เป็น,เด๊อ,มู,น่ะ...</td>\n",
       "      <td>แต่,ว่า,เขา,อ่ะ,พูด,ภา,ษา,เป็น,ค่ะ,เพื่อน,อะ,พ...</td>\n",
       "    </tr>\n",
       "    <tr>\n",
       "      <th>966</th>\n",
       "      <td>แล่ว,พ๊อ,ไป่,ถึง,กะ,นาย,ไม,เคิล,กะ,มี,มู,คือ,ก...</td>\n",
       "      <td>แล้ว,พอ,ไป,ถึง,ก้,นาย,ไม,เคิล,ก็,มี,เพื่อน,เหม...</td>\n",
       "    </tr>\n",
       "    <tr>\n",
       "      <th>967</th>\n",
       "      <td>เส็ด,แล่ว,กะ,หลัง,จาก,นั่น,เพิ่น,สิ,ยู,เพิ่น,บ...</td>\n",
       "      <td>เสร็จ,แล้ว,ก็,หลัง,จาก,นั้น,เขา,จะ,อยู่,เขา,บอ...</td>\n",
       "    </tr>\n",
       "    <tr>\n",
       "      <th>968</th>\n",
       "      <td>ไผ,ที,ยู,ใน,สมัย,นั่น,สิ,ฮู้,เล๊ย,หว่า,เลม,มัน...</td>\n",
       "      <td>ใคร,ที่,อยู่,ใน,สมัย,นั้น,จะ,รู้,เลย,ว่า,เล่ม,...</td>\n",
       "    </tr>\n",
       "    <tr>\n",
       "      <th>969</th>\n",
       "      <td>เส็ด,แล่ว,สอง,อา,ทิตย์,เพิ่น,กะ,ได๋,กั๊บ,เนาะ,...</td>\n",
       "      <td>เสร็จ,แล้ว,สอง,อา,ทิตย์,เขา,ก็,ได้,กลับ,นะ,คะ,...</td>\n",
       "    </tr>\n",
       "    <tr>\n",
       "      <th>970</th>\n",
       "      <td>นั่น,แหละ,คุย,กัน,ไป่,อูย,คุย,กัน,ไป่,เป็น,ปี,...</td>\n",
       "      <td>นั้น,แหละ,คุย,กัน,ไป,อูย,คุย,กัน,ไป,เป็น,ปี,อย...</td>\n",
       "    </tr>\n",
       "    <tr>\n",
       "      <th>971</th>\n",
       "      <td>กะ,เล๊ย,แบบ,ชี,วิต,ชวง,นั่น,แบบ,สิ,เอา,จัง,ได๋...</td>\n",
       "      <td>ก็,เลย,แบบ,ชี,วิต,ช่วง,นั้น,แบบ,จะ,เอา,ยัง,ไง,...</td>\n",
       "    </tr>\n",
       "    <tr>\n",
       "      <th>972</th>\n",
       "      <td>เส็ด,แล่ว,กะ,เล๊ย,อ่า,เพิ่น,เซิน,ปะ,เออ,เซิน,ม...</td>\n",
       "      <td>เสร็จ,แล้ว,ก็,เลย,อ่า,เขา,เชิญ,ปะ,เออ,เชิญ,มา,...</td>\n",
       "    </tr>\n",
       "    <tr>\n",
       "      <th>973</th>\n",
       "      <td>ซวง,นั่น,ข่อย,กะ,เขว,เนาะ,จ้า,สิ,ไป่,ตอ,หรือ,ส...</td>\n",
       "      <td>ช่วง,นั้น,ฉัน,ก็,เคว้ง,อ่ะ,ค่ะ,จะ,ไป,ต่อ,หรือ,...</td>\n",
       "    </tr>\n",
       "    <tr>\n",
       "      <th>974</th>\n",
       "      <td>ข่อย,กะ,เล๊ย,ตัด,สิน,ใจ,กั๊บ,มู,หว่า,เออ,ข่อย,...</td>\n",
       "      <td>ฉัน,ก็,เลย,ตัด,สิน,ใจ,กับ,เพื่อน,ว่า,เออ,ฉัน,จ...</td>\n",
       "    </tr>\n",
       "  </tbody>\n",
       "</table>\n",
       "<p>975 rows × 2 columns</p>\n",
       "</div>"
      ],
      "text/plain": [
       "                                             ภาษาอีสาน  \\\n",
       "0                            สวัสดี,สุผู้สุคน,เด้อ,จ้า   \n",
       "1         กิน,ข้าว,ก่อน,เด้อ,จ้า, ไผ,สิ,ถ่า,เค้า,ดาวน์   \n",
       "2    เค้า,ดาว,กะ,ขอ,ให้,เค้า,ดาว,อย่าง,มี,ความ,สุข,...   \n",
       "3    นี่,จ้า,อา,หาร,เย็น,เป็น,ลา,ซาน,ย่า,กับ,ผัก,สด...   \n",
       "4                       ขอ,ให้,เชิญ,แซ่บ,เด้อ,พี่,น้อง   \n",
       "..                                                 ...   \n",
       "970  นั่น,แหละ,คุย,กัน,ไป่,อูย,คุย,กัน,ไป่,เป็น,ปี,...   \n",
       "971  กะ,เล๊ย,แบบ,ชี,วิต,ชวง,นั่น,แบบ,สิ,เอา,จัง,ได๋...   \n",
       "972  เส็ด,แล่ว,กะ,เล๊ย,อ่า,เพิ่น,เซิน,ปะ,เออ,เซิน,ม...   \n",
       "973  ซวง,นั่น,ข่อย,กะ,เขว,เนาะ,จ้า,สิ,ไป่,ตอ,หรือ,ส...   \n",
       "974  ข่อย,กะ,เล๊ย,ตัด,สิน,ใจ,กั๊บ,มู,หว่า,เออ,ข่อย,...   \n",
       "\n",
       "                                               ภาษาไทย  \n",
       "0                                สวัสดี,ทุก ๆ คน,นะ,คะ  \n",
       "1            กิน,ข้าว,ก่อน,นะ,จ้ะ,ใคร,จะ,รอ,เค้า,ดาวน์  \n",
       "2    เค้า,ดาวน์,ก็,ขอ,ให้,เค้า,ดาน์,อย่าง,มี,ความ,ส...  \n",
       "3    นี่,จ้า,อา,หาร,เย็น,เป็น,ลา,ซาน,ย่า,กับ,ผัก,สด...  \n",
       "4                          ขอ,ให้,เชิญ,อร่อย,นะ,ทุก,คน  \n",
       "..                                                 ...  \n",
       "970  นั้น,แหละ,คุย,กัน,ไป,อูย,คุย,กัน,ไป,เป็น,ปี,อย...  \n",
       "971  ก็,เลย,แบบ,ชี,วิต,ช่วง,นั้น,แบบ,จะ,เอา,ยัง,ไง,...  \n",
       "972  เสร็จ,แล้ว,ก็,เลย,อ่า,เขา,เชิญ,ปะ,เออ,เชิญ,มา,...  \n",
       "973  ช่วง,นั้น,ฉัน,ก็,เคว้ง,อ่ะ,ค่ะ,จะ,ไป,ต่อ,หรือ,...  \n",
       "974  ฉัน,ก็,เลย,ตัด,สิน,ใจ,กับ,เพื่อน,ว่า,เออ,ฉัน,จ...  \n",
       "\n",
       "[975 rows x 2 columns]"
      ]
     },
     "execution_count": 85,
     "metadata": {},
     "output_type": "execute_result"
    }
   ],
   "source": [
    "Data"
   ]
  },
  {
   "cell_type": "markdown",
   "metadata": {},
   "source": [
    "2.2 สร้างตาราง Dictionary โดยตารางประกอบด้วย 2 คอลัมล์ คือภาษาอีสาน และภาษาไทย โดยค่าในคอลลัมภาษาอีสานคือคำในภาษาอีสาน\n",
    "และคอลัมล์ภาษาไทยคือคำแปลเป็นภาษากลางของภาษาอีสานในคอลัมล์แรก"
   ]
  },
  {
   "cell_type": "code",
   "execution_count": 87,
   "metadata": {},
   "outputs": [],
   "source": [
    "def splitstr(column1):\n",
    "    col1 = column1.split(',')\n",
    "    return col1"
   ]
  },
  {
   "cell_type": "code",
   "execution_count": 88,
   "metadata": {},
   "outputs": [],
   "source": [
    "list_new1 = []\n",
    "list_new2 = []\n",
    "for i in range(len(Data)):\n",
    "    if len(splitstr(Data.iloc[i]['ภาษาอีสาน'])) == len(splitstr(Data.iloc[i]['ภาษาไทย'])):\n",
    "        list_new1 += splitstr(Data.iloc[i]['ภาษาอีสาน'])\n",
    "        list_new2 += splitstr(Data.iloc[i]['ภาษาไทย'])"
   ]
  },
  {
   "cell_type": "code",
   "execution_count": 89,
   "metadata": {},
   "outputs": [],
   "source": [
    "data_new = []\n",
    "for i in range(len(list_new1)):\n",
    "    if len(list_new1[i]) == len(list_new2[i]):\n",
    "        data_new += [newdata(list_new1[i],list_new2[i])]"
   ]
  },
  {
   "cell_type": "code",
   "execution_count": 90,
   "metadata": {},
   "outputs": [],
   "source": [
    "Data_dic = ['ภาษาอีสาน' , 'ภาษาไทย'] \n",
    "Dictionary = pd.DataFrame.from_records([],columns = Data_dic) "
   ]
  },
  {
   "cell_type": "code",
   "execution_count": 91,
   "metadata": {},
   "outputs": [],
   "source": [
    "Dictionary ['ภาษาอีสาน'] = list_new1 \n",
    "Dictionary ['ภาษาไทย'] = list_new2"
   ]
  },
  {
   "cell_type": "code",
   "execution_count": 92,
   "metadata": {},
   "outputs": [
    {
     "data": {
      "text/html": [
       "<div>\n",
       "<style scoped>\n",
       "    .dataframe tbody tr th:only-of-type {\n",
       "        vertical-align: middle;\n",
       "    }\n",
       "\n",
       "    .dataframe tbody tr th {\n",
       "        vertical-align: top;\n",
       "    }\n",
       "\n",
       "    .dataframe thead th {\n",
       "        text-align: right;\n",
       "    }\n",
       "</style>\n",
       "<table border=\"1\" class=\"dataframe\">\n",
       "  <thead>\n",
       "    <tr style=\"text-align: right;\">\n",
       "      <th></th>\n",
       "      <th>ภาษาอีสาน</th>\n",
       "      <th>ภาษาไทย</th>\n",
       "    </tr>\n",
       "  </thead>\n",
       "  <tbody>\n",
       "    <tr>\n",
       "      <th>0</th>\n",
       "      <td>สวัสดี</td>\n",
       "      <td>สวัสดี</td>\n",
       "    </tr>\n",
       "    <tr>\n",
       "      <th>1</th>\n",
       "      <td>สุผู้สุคน</td>\n",
       "      <td>ทุก ๆ คน</td>\n",
       "    </tr>\n",
       "    <tr>\n",
       "      <th>2</th>\n",
       "      <td>เด้อ</td>\n",
       "      <td>นะ</td>\n",
       "    </tr>\n",
       "    <tr>\n",
       "      <th>3</th>\n",
       "      <td>จ้า</td>\n",
       "      <td>คะ</td>\n",
       "    </tr>\n",
       "    <tr>\n",
       "      <th>4</th>\n",
       "      <td>กิน</td>\n",
       "      <td>กิน</td>\n",
       "    </tr>\n",
       "    <tr>\n",
       "      <th>5</th>\n",
       "      <td>ข้าว</td>\n",
       "      <td>ข้าว</td>\n",
       "    </tr>\n",
       "    <tr>\n",
       "      <th>6</th>\n",
       "      <td>ก่อน</td>\n",
       "      <td>ก่อน</td>\n",
       "    </tr>\n",
       "    <tr>\n",
       "      <th>7</th>\n",
       "      <td>เด้อ</td>\n",
       "      <td>นะ</td>\n",
       "    </tr>\n",
       "    <tr>\n",
       "      <th>8</th>\n",
       "      <td>จ้า</td>\n",
       "      <td>จ้ะ</td>\n",
       "    </tr>\n",
       "    <tr>\n",
       "      <th>9</th>\n",
       "      <td>ไผ</td>\n",
       "      <td>ใคร</td>\n",
       "    </tr>\n",
       "    <tr>\n",
       "      <th>10</th>\n",
       "      <td>สิ</td>\n",
       "      <td>จะ</td>\n",
       "    </tr>\n",
       "    <tr>\n",
       "      <th>11</th>\n",
       "      <td>ถ่า</td>\n",
       "      <td>รอ</td>\n",
       "    </tr>\n",
       "    <tr>\n",
       "      <th>12</th>\n",
       "      <td>เค้า</td>\n",
       "      <td>เค้า</td>\n",
       "    </tr>\n",
       "    <tr>\n",
       "      <th>13</th>\n",
       "      <td>ดาวน์</td>\n",
       "      <td>ดาวน์</td>\n",
       "    </tr>\n",
       "    <tr>\n",
       "      <th>14</th>\n",
       "      <td>เค้า</td>\n",
       "      <td>เค้า</td>\n",
       "    </tr>\n",
       "    <tr>\n",
       "      <th>15</th>\n",
       "      <td>ดาว</td>\n",
       "      <td>ดาวน์</td>\n",
       "    </tr>\n",
       "    <tr>\n",
       "      <th>16</th>\n",
       "      <td>กะ</td>\n",
       "      <td>ก็</td>\n",
       "    </tr>\n",
       "    <tr>\n",
       "      <th>17</th>\n",
       "      <td>ขอ</td>\n",
       "      <td>ขอ</td>\n",
       "    </tr>\n",
       "    <tr>\n",
       "      <th>18</th>\n",
       "      <td>ให้</td>\n",
       "      <td>ให้</td>\n",
       "    </tr>\n",
       "    <tr>\n",
       "      <th>19</th>\n",
       "      <td>เค้า</td>\n",
       "      <td>เค้า</td>\n",
       "    </tr>\n",
       "    <tr>\n",
       "      <th>20</th>\n",
       "      <td>ดาว</td>\n",
       "      <td>ดาน์</td>\n",
       "    </tr>\n",
       "    <tr>\n",
       "      <th>21</th>\n",
       "      <td>อย่าง</td>\n",
       "      <td>อย่าง</td>\n",
       "    </tr>\n",
       "    <tr>\n",
       "      <th>22</th>\n",
       "      <td>มี</td>\n",
       "      <td>มี</td>\n",
       "    </tr>\n",
       "    <tr>\n",
       "      <th>23</th>\n",
       "      <td>ความ</td>\n",
       "      <td>ความ</td>\n",
       "    </tr>\n",
       "    <tr>\n",
       "      <th>24</th>\n",
       "      <td>สุข</td>\n",
       "      <td>สุข</td>\n",
       "    </tr>\n",
       "    <tr>\n",
       "      <th>25</th>\n",
       "      <td>นะ</td>\n",
       "      <td>นะ</td>\n",
       "    </tr>\n",
       "    <tr>\n",
       "      <th>26</th>\n",
       "      <td>จ้ะ</td>\n",
       "      <td>จ้ะ</td>\n",
       "    </tr>\n",
       "    <tr>\n",
       "      <th>27</th>\n",
       "      <td>นี่</td>\n",
       "      <td>นี่</td>\n",
       "    </tr>\n",
       "    <tr>\n",
       "      <th>28</th>\n",
       "      <td>จ้า</td>\n",
       "      <td>จ้า</td>\n",
       "    </tr>\n",
       "    <tr>\n",
       "      <th>29</th>\n",
       "      <td>อา</td>\n",
       "      <td>อา</td>\n",
       "    </tr>\n",
       "    <tr>\n",
       "      <th>...</th>\n",
       "      <td>...</td>\n",
       "      <td>...</td>\n",
       "    </tr>\n",
       "    <tr>\n",
       "      <th>30822</th>\n",
       "      <td>ร้อย</td>\n",
       "      <td>ร้อย</td>\n",
       "    </tr>\n",
       "    <tr>\n",
       "      <th>30823</th>\n",
       "      <td>เนาะ</td>\n",
       "      <td>นะ</td>\n",
       "    </tr>\n",
       "    <tr>\n",
       "      <th>30824</th>\n",
       "      <td>จ้า</td>\n",
       "      <td>คะ</td>\n",
       "    </tr>\n",
       "    <tr>\n",
       "      <th>30825</th>\n",
       "      <td>บ่อ</td>\n",
       "      <td>ไม่</td>\n",
       "    </tr>\n",
       "    <tr>\n",
       "      <th>30826</th>\n",
       "      <td>ฮู้</td>\n",
       "      <td>รู้</td>\n",
       "    </tr>\n",
       "    <tr>\n",
       "      <th>30827</th>\n",
       "      <td>คือ</td>\n",
       "      <td>เหมือน</td>\n",
       "    </tr>\n",
       "    <tr>\n",
       "      <th>30828</th>\n",
       "      <td>กัน</td>\n",
       "      <td>กัน</td>\n",
       "    </tr>\n",
       "    <tr>\n",
       "      <th>30829</th>\n",
       "      <td>หว่า</td>\n",
       "      <td>ว่า</td>\n",
       "    </tr>\n",
       "    <tr>\n",
       "      <th>30830</th>\n",
       "      <td>ตอน</td>\n",
       "      <td>ตอน</td>\n",
       "    </tr>\n",
       "    <tr>\n",
       "      <th>30831</th>\n",
       "      <td>นั่น</td>\n",
       "      <td>นั้น</td>\n",
       "    </tr>\n",
       "    <tr>\n",
       "      <th>30832</th>\n",
       "      <td>ขอ</td>\n",
       "      <td>ขอ</td>\n",
       "    </tr>\n",
       "    <tr>\n",
       "      <th>30833</th>\n",
       "      <td>วี</td>\n",
       "      <td>วี</td>\n",
       "    </tr>\n",
       "    <tr>\n",
       "      <th>30834</th>\n",
       "      <td>ซ่า</td>\n",
       "      <td>ซ่า</td>\n",
       "    </tr>\n",
       "    <tr>\n",
       "      <th>30835</th>\n",
       "      <td>พาน</td>\n",
       "      <td>ผ่าน</td>\n",
       "    </tr>\n",
       "    <tr>\n",
       "      <th>30836</th>\n",
       "      <td>ได๋</td>\n",
       "      <td>ได้</td>\n",
       "    </tr>\n",
       "    <tr>\n",
       "      <th>30837</th>\n",
       "      <td>จัง</td>\n",
       "      <td>ยัง</td>\n",
       "    </tr>\n",
       "    <tr>\n",
       "      <th>30838</th>\n",
       "      <td>ได๋</td>\n",
       "      <td>ไง</td>\n",
       "    </tr>\n",
       "    <tr>\n",
       "      <th>30839</th>\n",
       "      <td>กะ</td>\n",
       "      <td>ก็</td>\n",
       "    </tr>\n",
       "    <tr>\n",
       "      <th>30840</th>\n",
       "      <td>บ่อ</td>\n",
       "      <td>ไม่</td>\n",
       "    </tr>\n",
       "    <tr>\n",
       "      <th>30841</th>\n",
       "      <td>จั๊ก</td>\n",
       "      <td>รู้</td>\n",
       "    </tr>\n",
       "    <tr>\n",
       "      <th>30842</th>\n",
       "      <td>เล๊ย</td>\n",
       "      <td>เลย</td>\n",
       "    </tr>\n",
       "    <tr>\n",
       "      <th>30843</th>\n",
       "      <td>จ้า</td>\n",
       "      <td>ค่ะ</td>\n",
       "    </tr>\n",
       "    <tr>\n",
       "      <th>30844</th>\n",
       "      <td>บอก</td>\n",
       "      <td>บอก</td>\n",
       "    </tr>\n",
       "    <tr>\n",
       "      <th>30845</th>\n",
       "      <td>ต่งๆ</td>\n",
       "      <td>ตรงๆ</td>\n",
       "    </tr>\n",
       "    <tr>\n",
       "      <th>30846</th>\n",
       "      <td>เล๊ย</td>\n",
       "      <td>เลย</td>\n",
       "    </tr>\n",
       "    <tr>\n",
       "      <th>30847</th>\n",
       "      <td>หว่า</td>\n",
       "      <td>ว่า</td>\n",
       "    </tr>\n",
       "    <tr>\n",
       "      <th>30848</th>\n",
       "      <td>จำ</td>\n",
       "      <td>จำ</td>\n",
       "    </tr>\n",
       "    <tr>\n",
       "      <th>30849</th>\n",
       "      <td>บ่อ</td>\n",
       "      <td>ไม่</td>\n",
       "    </tr>\n",
       "    <tr>\n",
       "      <th>30850</th>\n",
       "      <td>ได๋</td>\n",
       "      <td>ได้</td>\n",
       "    </tr>\n",
       "    <tr>\n",
       "      <th>30851</th>\n",
       "      <td>แล่ว</td>\n",
       "      <td>แล้ว</td>\n",
       "    </tr>\n",
       "  </tbody>\n",
       "</table>\n",
       "<p>30852 rows × 2 columns</p>\n",
       "</div>"
      ],
      "text/plain": [
       "       ภาษาอีสาน   ภาษาไทย\n",
       "0         สวัสดี    สวัสดี\n",
       "1      สุผู้สุคน  ทุก ๆ คน\n",
       "2           เด้อ        นะ\n",
       "3            จ้า        คะ\n",
       "4            กิน       กิน\n",
       "...          ...       ...\n",
       "30847       หว่า       ว่า\n",
       "30848         จำ        จำ\n",
       "30849        บ่อ       ไม่\n",
       "30850        ได๋       ได้\n",
       "30851       แล่ว      แล้ว\n",
       "\n",
       "[30852 rows x 2 columns]"
      ]
     },
     "execution_count": 92,
     "metadata": {},
     "output_type": "execute_result"
    }
   ],
   "source": [
    "Dictionary"
   ]
  },
  {
   "cell_type": "code",
   "execution_count": null,
   "metadata": {},
   "outputs": [],
   "source": []
  }
 ],
 "metadata": {
  "kernelspec": {
   "display_name": "Python 3",
   "language": "python",
   "name": "python3"
  },
  "language_info": {
   "codemirror_mode": {
    "name": "ipython",
    "version": 3
   },
   "file_extension": ".py",
   "mimetype": "text/x-python",
   "name": "python",
   "nbconvert_exporter": "python",
   "pygments_lexer": "ipython3",
   "version": "3.7.3"
  }
 },
 "nbformat": 4,
 "nbformat_minor": 2
}
